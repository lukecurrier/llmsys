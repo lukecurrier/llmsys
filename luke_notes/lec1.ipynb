{
 "cells": [
  {
   "cell_type": "code",
   "execution_count": 10,
   "metadata": {},
   "outputs": [],
   "source": [
    "from transformers import AutoTokenizer, AutoModelForCausalLM\n",
    "from datasets import load_dataset\n",
    "import torch\n",
    "import torch.nn.functional as F"
   ]
  },
  {
   "cell_type": "code",
   "execution_count": null,
   "metadata": {},
   "outputs": [
    {
     "name": "stderr",
     "output_type": "stream",
     "text": [
      "/Users/lsc/miniforge3/lib/python3.12/site-packages/torchvision/io/image.py:14: UserWarning: Failed to load image Python extension: 'dlopen(/Users/lsc/miniforge3/lib/python3.12/site-packages/torchvision/image.so, 0x0006): Library not loaded: @rpath/libjpeg.9.dylib\n",
      "  Referenced from: <367D4265-B20F-34BD-94EB-4F3EE47C385B> /Users/lsc/miniforge3/lib/python3.12/site-packages/torchvision/image.so\n",
      "  Reason: tried: '/Users/lsc/miniforge3/lib/python3.12/site-packages/torchvision/../../../libjpeg.9.dylib' (no such file), '/Users/lsc/miniforge3/lib/python3.12/site-packages/torchvision/../../../libjpeg.9.dylib' (no such file), '/Users/lsc/miniforge3/lib/python3.12/lib-dynload/../../libjpeg.9.dylib' (no such file), '/Users/lsc/miniforge3/bin/../lib/libjpeg.9.dylib' (no such file)'If you don't plan on using image functionality from `torchvision.io`, you can ignore this warning. Otherwise, there might be something wrong with your environment. Did you have `libjpeg` or `libpng` installed before building `torchvision` from source?\n",
      "  warn(\n"
     ]
    }
   ],
   "source": [
    "tokenizer = AutoTokenizer.from_pretrained(\"HuggingFaceTB/SmolLM2-360M\")\n",
    "model = AutoModelForCausalLM.from_pretrained(\"HuggingFaceTB/SmolLM2-360M\")\n",
    "\n",
    "ds = load_dataset(\"nuprl/engineering-llm-systems\", \"humaneval\", split=\"test\")"
   ]
  },
  {
   "cell_type": "code",
   "execution_count": 54,
   "metadata": {},
   "outputs": [],
   "source": [
    "def generate_text(prompt, max_new_tokens=300, num_gens=20):\n",
    "    outputs = []\n",
    "    for n in range(num_gens):\n",
    "        inputs = tokenizer(prompt, return_tensors=\"pt\")[\"input_ids\"]\n",
    "        outputs = model.generate(\n",
    "            inputs,\n",
    "            pad_token_id = tokenizer.eos_token_id,\n",
    "            max_new_tokens=max_new_tokens,\n",
    "            do_sample=True,\n",
    "            temperature=0.2,\n",
    "            top_p=None)\n",
    "        outputs.append(tokenizer.decode(outputs[0,inputs.shape[1]:]))\n",
    "    return outputs"
   ]
  },
  {
   "cell_type": "code",
   "execution_count": 53,
   "metadata": {},
   "outputs": [
    {
     "data": {
      "text/plain": [
       "' writer, but he was also a great actor. He was a great actor because he was a great'"
      ]
     },
     "execution_count": 53,
     "metadata": {},
     "output_type": "execute_result"
    }
   ],
   "source": [
    "generate_text(\"Shakespeare was a great\")"
   ]
  },
  {
   "cell_type": "markdown",
   "metadata": {},
   "source": []
  },
  {
   "cell_type": "code",
   "execution_count": 55,
   "metadata": {},
   "outputs": [
    {
     "data": {
      "text/plain": [
       "{'name': 'HumanEval_23_strlen',\n",
       " 'prompt': 'def strlen(string: str) -> int:\\n    \"\"\" Return length of given string\\n    >>> strlen(\\'\\')\\n    0\\n    >>> strlen(\\'abc\\')\\n    3\\n    \"\"\"',\n",
       " 'tests': \"def check(candidate):\\n    assert candidate('') == 0\\n    assert candidate('x') == 1\\n    assert candidate('asdasnakj') == 9\\n\\ndef test_check():\\n    check(strlen)\\n\\ntest_check()\\n\"}"
      ]
     },
     "execution_count": 55,
     "metadata": {},
     "output_type": "execute_result"
    }
   ],
   "source": [
    "ds[0]"
   ]
  },
  {
   "cell_type": "code",
   "execution_count": null,
   "metadata": {},
   "outputs": [],
   "source": []
  }
 ],
 "metadata": {
  "kernelspec": {
   "display_name": "base",
   "language": "python",
   "name": "python3"
  },
  "language_info": {
   "codemirror_mode": {
    "name": "ipython",
    "version": 3
   },
   "file_extension": ".py",
   "mimetype": "text/x-python",
   "name": "python",
   "nbconvert_exporter": "python",
   "pygments_lexer": "ipython3",
   "version": "3.12.8"
  }
 },
 "nbformat": 4,
 "nbformat_minor": 2
}
