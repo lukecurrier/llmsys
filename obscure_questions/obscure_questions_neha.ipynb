{
 "cells": [
  {
   "cell_type": "code",
   "execution_count": 3,
   "metadata": {},
   "outputs": [],
   "source": [
    "import math\n",
    "from functools import lru_cache\n",
    "from datasets import load_dataset\n",
    "import numpy as np\n",
    "import torch\n",
    "from transformers import AutoTokenizer, AutoModel\n",
    "from openai import OpenAI"
   ]
  },
  {
   "cell_type": "code",
   "execution_count": 4,
   "metadata": {},
   "outputs": [],
   "source": [
    "\n",
    "neu_wiki = load_dataset(\"nuprl/engineering-llm-systems\", name=\"wikipedia-northeastern-university\", split=\"test\")\n",
    "obscure_questions = load_dataset(\"nuprl/engineering-llm-systems\", name=\"obscure_questions\", split=\"test\")\n"
   ]
  },
  {
   "cell_type": "code",
   "execution_count": 3,
   "metadata": {},
   "outputs": [
    {
     "data": {
      "text/plain": [
       "'https://en.wikipedia.org/wiki/British%20Columbia'"
      ]
     },
     "execution_count": 3,
     "metadata": {},
     "output_type": "execute_result"
    }
   ],
   "source": [
    "neu_wiki[0]['url']"
   ]
  },
  {
   "cell_type": "code",
   "execution_count": 4,
   "metadata": {},
   "outputs": [
    {
     "data": {
      "text/plain": [
       "{'url': '',\n",
       " 'article_id': '6849',\n",
       " 'prompt': 'In what year was Cy Young elected to the National Baseball Hall of Fame?',\n",
       " 'choices': ['A. 1935', 'B. 1937', 'C. 1940', 'D. 1956'],\n",
       " 'correct_answer': 'B',\n",
       " 'id': 0}"
      ]
     },
     "execution_count": 4,
     "metadata": {},
     "output_type": "execute_result"
    }
   ],
   "source": [
    "obscure_questions[0]"
   ]
  },
  {
   "cell_type": "code",
   "execution_count": 5,
   "metadata": {},
   "outputs": [],
   "source": [
    "def term_frequency(document: str, term: str):\n",
    "    c = document.count(term)\n",
    "    return 0 if c == 0 else 1 + math.log(c)\n",
    "    # return document.count(term)\n",
    "\n",
    "@lru_cache(maxsize=None)\n",
    "def inverse_document_frequency(term: str):\n",
    "    num_docs_with_term = sum(1 for item in neu_wiki if term in item[\"text\"])\n",
    "    return math.log(len(neu_wiki) / (1 + num_docs_with_term))\n",
    "\n",
    "def compute_tf_idf_vector_unnormalized(terms, document: str):\n",
    "    return [ term_frequency(document, term) * inverse_document_frequency(term) for term in terms ]\n",
    "\n",
    "def compute_tf_idf_vector(terms, document: str):\n",
    "    vec = compute_tf_idf_vector_unnormalized(terms, document)\n",
    "    return vec\n",
    "\n",
    "def compute_cosine_similarity(vec1, vec2):\n",
    "    vec1_norm = np.linalg.norm(vec1)\n",
    "    vec2_norm = np.linalg.norm(vec2)\n",
    "\n",
    "    if vec1_norm == 0 or vec2_norm == 0:\n",
    "        return 0\n",
    "    \n",
    "    return np.dot(vec1, vec2) / (vec1_norm * vec2_norm)\n",
    "\n",
    "def rank_by_tf_idf(query: str):\n",
    "    query_vec = compute_tf_idf_vector(query.split(), query)\n",
    "    return sorted(neu_wiki, key=lambda x: compute_cosine_similarity(query_vec, compute_tf_idf_vector(query.split(), x[\"text\"])), reverse=True)"
   ]
  },
  {
   "cell_type": "code",
   "execution_count": 10,
   "metadata": {},
   "outputs": [
    {
     "name": "stdout",
     "output_type": "stream",
     "text": [
      "British Columbia https://en.wikipedia.org/wiki/British%20Columbia\n",
      "Cy Young https://en.wikipedia.org/wiki/Cy%20Young\n",
      "Car Talk https://en.wikipedia.org/wiki/Car%20Talk\n",
      "Dartmouth College https://en.wikipedia.org/wiki/Dartmouth%20College\n",
      "Dedham, Massachusetts https://en.wikipedia.org/wiki/Dedham%2C%20Massachusetts\n",
      "Derek Walcott https://en.wikipedia.org/wiki/Derek%20Walcott\n",
      "Distance education https://en.wikipedia.org/wiki/Distance%20education\n",
      "Eindhoven University of Technology https://en.wikipedia.org/wiki/Eindhoven%20University%20of%20Technology\n",
      "Fenway Park https://en.wikipedia.org/wiki/Fenway%20Park\n",
      "Ice hockey https://en.wikipedia.org/wiki/Ice%20hockey\n",
      "Massachusetts Institute of Technology https://en.wikipedia.org/wiki/Massachusetts%20Institute%20of%20Technology\n",
      "Nu https://en.wikipedia.org/wiki/Nu\n",
      "Susan B. Anthony https://en.wikipedia.org/wiki/Susan%20B.%20Anthony\n",
      "Scheme (programming language) https://en.wikipedia.org/wiki/Scheme%20%28programming%20language%29\n",
      "Siberian Husky https://en.wikipedia.org/wiki/Siberian%20Husky\n",
      "Sokal affair https://en.wikipedia.org/wiki/Sokal%20affair\n",
      "The New York Times https://en.wikipedia.org/wiki/The%20New%20York%20Times\n",
      "White House https://en.wikipedia.org/wiki/White%20House\n",
      "Witchcraft https://en.wikipedia.org/wiki/Witchcraft\n",
      "List of political scientists https://en.wikipedia.org/wiki/List%20of%20political%20scientists\n"
     ]
    }
   ],
   "source": [
    "neu_docs = rank_by_tf_idf(\"Northeastern\")\n",
    "for item in neu_docs[:20]:\n",
    "    print(item[\"title\"], item[\"url\"])\n"
   ]
  },
  {
   "cell_type": "code",
   "execution_count": 6,
   "metadata": {},
   "outputs": [],
   "source": [
    "model = AutoModel.from_pretrained(\"answerdotai/ModernBERT-base\")\n",
    "tokenizer = AutoTokenizer.from_pretrained(\"answerdotai/ModernBERT-base\")"
   ]
  },
  {
   "cell_type": "code",
   "execution_count": 8,
   "metadata": {},
   "outputs": [],
   "source": [
    "def compute_query_similarity(query, document, topn=3):\n",
    "    query_vec = model(**tokenizer(query, return_tensors=\"pt\")).last_hidden_state[0, 0]\n",
    "    doc_vec = model(**tokenizer(document, return_tensors=\"pt\")).last_hidden_state[0, 0]\n",
    "    cosine_similarity = compute_cosine_similarity(query_vec.numpy(), doc_vec.numpy())\n",
    "    return cosine_similarity"
   ]
  },
  {
   "cell_type": "code",
   "execution_count": null,
   "metadata": {},
   "outputs": [],
   "source": [
    "sorted_docs = []\n",
    "for question in obscure_questions:\n",
    "    for doc in neu_docs[:1]:\n",
    "        with torch.no_grad():\n",
    "            query_sim = compute_query_similarity(question['prompt'], doc['text'])\n",
    "            print(query_sim)\n",
    "            sorted_docs.append((doc, query_sim))\n",
    "    sorted_docs = sorted(sorted_docs, key=lambda x: x[1], reverse=True)\n",
    "    print(\"The best doc is: \")\n",
    "    print(sorted_docs[0])"
   ]
  },
  {
   "cell_type": "code",
   "execution_count": 18,
   "metadata": {},
   "outputs": [
    {
     "name": "stdout",
     "output_type": "stream",
     "text": [
      "THIS: \n",
      "0.7429974\n",
      "MAX\n",
      "{'id': '6849', 'url': 'https://en.wikipedia.org/wiki/Cy%20Young', 'title': 'Cy Young', 'text': 'Denton True \"Cy\" Young (March 29, 1867 – November 4, 1955) was an American Major League Baseball (MLB) pitcher. Born in Gilmore, Ohio, he worked on his family\\'s farm as a youth before starting his professional baseball career. Young entered the major leagues in 1890 with the National League\\'s Cleveland Spiders and pitched for them until 1898. He was then transferred to the St. Louis Cardinals franchise. In 1901, Young jumped to the American League and played for the Boston Red Sox franchise until 1908, helping them win the 1903 World Series. He finished his career with the Cleveland Naps and Boston Rustlers, retiring in 1911.\\n\\nYoung was one of the hardest-throwing pitchers in the game early in his career. After his speed diminished, he relied more on his control and remained effective into his forties. By the time Young retired, he had established numerous pitching records, some of which have stood for over a century. He holds MLB records for the most career wins, with 511, along with most career losses, innings pitched, games started, and complete games. He led his league in wins during five seasons and pitched three no-hitters, including a perfect game in 1904.\\n\\nYoung was elected to the National Baseball Hall of Fame in 1937. In 1956, one year after his death, the Cy Young Award was created to honor the best pitcher in each league for each season.\\n\\nEarly life\\nCy Young was the oldest child born to Nancy (Mottmiller) and McKinzie Young, Jr., and was christened Denton True Young. He was of part German descent. The couple had four more children: Jesse Carlton, Alonzo, Ella, and Anthony. When the couple married, McKinzie\\'s father gave him the  of farm land he owned. Young was born in Gilmore, a tiny farming community located in Washington Township, Tuscarawas County, Ohio.  \\n\\nHe was raised on one of the local farms and went by the name Dent Young in his early years. Young was also known as \"Farmer Young\" and \"Farmboy Young\". Young stopped his formal education after he completed the sixth grade so he could help out on the family\\'s farm. In 1885, Young moved with his father to Nebraska, and in the summer of 1887, they returned to Gilmore.\\n\\nYoung played for many amateur baseball leagues during his youth, including a semi-professional Carrollton team in 1888. Young pitched and played second base. The first box score known containing the name Young came from that season. In that game, Young played first base and had three hits in three at-bats. After the season, Young received an offer to play for the minor league Canton team, which started Young\\'s professional career.\\n\\nProfessional baseball career\\n\\nMinor leagues\\nYoung began his professional career in 1889 with the Canton, Ohio, team of the Tri-State League, a professional minor league. During his tryout, Young impressed the scouts, recalling years later, \"I almost tore the boards off the grandstand with my fast ball.\" Cy Young\\'s nickname came from the fences that he had destroyed using his fastball. The fences looked like a cyclone had hit them. Reporters later shortened the name to \"Cy\", which became the nickname Young used for the rest of his life. During Young\\'s one year with the Canton team, he won 15 games and lost 15.\\n\\nFranchises in the National League, the major professional baseball league at the time, wanted the best players available to them. Therefore, in 1890, Young signed with the Cleveland Spiders, a team which had moved from the American Association to the National League the previous year.\\n\\nCleveland Spiders\\nOn August 6, 1890, Young\\'s major league debut, he pitched a three-hit 8–1 victory over the Chicago Colts. While Young was on the Spiders, Chief Zimmer was his catcher more often than any other player. Bill James, a baseball statistician, estimated that Zimmer caught Young in more games than any other battery in baseball history.\\n\\nEarly on, Young established himself as one of the harder-throwing pitchers in the game. Bill James wrote that Zimmer often put a piece of beefsteak inside his baseball glove to protect his catching hand from Young\\'s fastball. In the absence of radar guns, however, it is impossible to say just how hard Young actually threw. Young continued to perform at a high level during the 1890 season. On the last day of the season, Young won both games of a doubleheader. In the first weeks of Young\\'s career, Cap Anson, the player-manager of the Chicago Colts spotted Young\\'s ability. Anson told Spiders manager Gus Schmelz, \"He\\'s too green to do your club much good, but I believe if I taught him what I know, I might make a pitcher out of him in a couple of years. He\\'s not worth it now, but I\\'m willing to give you $1,000 ($ today) for him.\" Schmelz replied, \"Cap, you can keep your thousand and we\\'ll keep the rube.\"\\n\\nTwo years after Young\\'s debut, the National League moved the pitcher\\'s position back by . Since 1881, pitchers had pitched within a \"box\" whose front line was  from home base, and since 1887 they had been compelled to toe the back line of the box when delivering the ball. The back line was  away from home. In 1893,  was added to the back line, yielding the modern pitching distance of . In the book The Neyer/James Guide to Pitchers, sports journalist Rob Neyer wrote that the speed with which pitchers like Cy Young, Amos Rusie, and Jouett Meekin threw was the impetus that caused the move.\\n\\nThe 1892 regular season was a success for Young, who led the National League in wins (36), ERA (1.93), and shutouts (9). Just as many contemporary Minor League Baseball leagues operate today, the National League was using a split season format during the 1892 season. The Boston Beaneaters won the first-half title, and the Spiders won the second-half title, with a best-of-nine series determining the league champion. Despite the Spiders\\' second half run, the Beaneaters swept the series, five games to none. Young pitched three complete games in the series, but lost two decisions. He also threw a complete game shutout, but the game ended in a scoreless tie.\\n\\nThe Spiders faced the Baltimore Orioles in the Temple Cup, a precursor to the World Series, in 1895. Young won three games in the series and Cleveland won the Cup, four games to one. It was around this time that Young added what he called a \"slow ball\" to his pitching repertoire to reduce stress on his arm. The pitch today is called a changeup.\\n\\nIn 1896, Young lost a no-hitter with two outs in the ninth inning when Ed Delahanty of the Philadelphia Phillies hit a single. On September 18, 1897, Young pitched the first no-hitter of his career in a game against the Cincinnati Reds. Although Young did not walk a batter, the Spiders committed four errors while on defense. One of the errors had originally been ruled a hit, but the Cleveland third baseman sent a note to the press box after the eighth inning, saying he had made an error, and the ruling was changed. Young later said that, despite his teammate\\'s gesture, he considered the game to be a one-hitter.\\n\\nShift to St. Louis\\nPrior to the 1899 season, Frank Robison, the Spiders owner, bought the St. Louis Browns, thus owning two clubs simultaneously. The Browns were renamed the \"Perfectos\", and restocked with Cleveland talent. Just weeks before the season opener, most of the better Spiders players were transferred to St. Louis, including three future Hall of Famers: Young, Jesse Burkett, and Bobby Wallace. The roster maneuvers failed to create a powerhouse Perfectos team, as St. Louis finished fifth in both 1899 and 1900. Meanwhile, the depleted Spiders lost 134 games, the most in MLB history, before folding. Young spent two years with St. Louis, which is where he found his favorite catcher, Lou Criger. The two men were teammates for a decade.\\n\\nMove to Boston of the American League\\n\\nIn 1901, the rival American League declared major league status and set about raiding National League rosters. Young left St. Louis and joined the American League\\'s Boston Americans for a $3,500 contract ($ today). Young would remain with the Boston team until 1909. In his first year in the American League, Young was dominant. Pitching to Criger, who had also jumped to Boston, Young led the league in wins, strikeouts, and ERA, thus earning the colloquial AL Triple Crown for pitchers. Young won almost 42% of his team\\'s games in 1901, accounting for 33 of his team\\'s 79 wins. In February 1902, before the start of the baseball season, Young served as a pitching coach at Harvard University. The sixth-grade graduate instructing Harvard students delighted Boston newspapers. The following year, Young coached at Mercer University during the spring. The team went on to win the Georgia state championship in 1903, 1904, and 1905.\\n\\nThe Boston Americans played the Pittsburgh Pirates in the first modern World Series in 1903. Young, who started Game One against the visiting Pirates, thus threw the first pitch in modern World Series history. The Pirates scored four runs in that first inning, and Young lost the game. Young performed better in subsequent games, winning his next two starts. He also drove in three runs in Game Five. Young finished the series with a 2–1 record and a 1.85 ERA in four appearances, and Boston defeated Pittsburgh, five games to three games.\\n\\nAfter one-hitting Boston on May 2, 1904, Philadelphia Athletics pitcher Rube Waddell taunted Young to face him so that he could repeat his performance against Boston\\'s ace. Three days later, Young pitched a perfect game against Waddell and the Athletics. It was the first perfect game in American League history. Waddell was the 27th and last batter, and when he flied out, Young shouted, \"How do you like that, you hayseed?\"\\n\\nWaddell had picked an inauspicious time to issue his challenge. Young\\'s perfect game was the centerpiece of a pitching streak. Young set major league records for the most consecutive scoreless innings pitched and the most consecutive innings without allowing a hit; the latter record still stands at 25.1 innings, or 76 hitless batters. Even after he allowed a hit, Young\\'s scoreless streak reached a then-record 45 shutout innings. Before Young, only two pitchers had thrown perfect games. This occurred in 1880, when Lee Richmond and John Montgomery Ward pitched perfect games within five days of each other, although under somewhat different rules: the front edge of the pitcher\\'s box was only  from home base (the modern release point is about  farther away); walks required eight balls; and pitchers were obliged to throw side-armed. Young\\'s perfect game was the first under the modern rules established in 1893. One year later, on July 4, 1905, Rube Waddell beat Young and the Americans, 4–2, in a 20-inning matchup. Young pitched 13 consecutive scoreless innings before he gave up a pair of unearned runs in the final inning. Young did not walk a batter and was later quoted: \"For my part, I think it was the greatest game of ball I ever took part in.\" In 1907, Young and Waddell faced off in a scoreless 13-inning tie.\\n\\nIn 1908, Young pitched the third no-hitter of his career. Three months past his 41st birthday, Cy Young was the oldest pitcher to record a no-hitter, a record which would stand 82 years until 43-year-old Nolan Ryan surpassed the feat. Only a walk kept Young from his second perfect game. After that runner was caught stealing, no other batter reached base. At this time, Young was the second-oldest player in either league. In another game one month before his no-hitter, he allowed just one single while facing 28 batters. On August 13, 1908, the league celebrated \"Cy Young Day\". No American League games were played on that day, and a group of All-Stars from the league\\'s other teams gathered in Boston to play against Young and the Red Sox. When the season ended, he posted a 1.26 ERA, which gave him not only the lowest in his career, but also a major league record of being the oldest pitcher with 150+ innings pitched to post a season ERA under 1.50.\\n\\nCleveland Naps and retirement\\nYoung was traded back to Cleveland, the place where he played over half his career, before the 1909 season, to the Cleveland Naps of the American League. The following season, 1910, he won his 500th career game on July 19 against Washington. He split 1911, his final year, between the Naps and the Boston Rustlers. On September 22, 1911, Young shut out the Pittsburgh Pirates, 1–0, for his last career victory. In his final start two weeks later, the last eight batters of Young\\'s career combined to hit a triple, four singles, and three doubles. By the time of his retirement, Young\\'s control had faltered. He had also gained weight. In two of his last three years, he was the oldest player in the league.\\n\\nCareer accomplishments\\nYoung established numerous pitching records, some of which have stood for over a century. Young compiled 511 wins, which is the most in major league history and 94 ahead of Walter Johnson, second on the list. At the time of Young\\'s retirement, Pud Galvin had the second most career wins with 364. In addition to wins, Young still holds the major league records for most career innings pitched (7,356), most career games started (815), and most complete games (749). He also retired with 316 losses, the most in MLB history. Young\\'s career record for strikeouts was broken by Johnson in 1921. Young\\'s 76 career shutouts are fourth all-time.\\n\\nYoung led his league in wins five times (1892, 1895, and 1901–1903), finishing second twice. His career high was 36 in 1892. He won at least 30 games in a season five times. He had 15 seasons with 20 or more wins, two more than the runners-up, Christy Mathewson and Warren Spahn. Young won two ERA titles during his career, in 1892 (1.93) and in 1901 (1.62), and was three times the runner-up. Young\\'s earned run average was below 2.00 six times, but this was not uncommon during the dead-ball era. Although Young threw over 400 innings in each of his first four full seasons, he did not lead his league until 1902. He had 40 or more complete games nine times. Young also led his league in strikeouts twice (with 140 in 1896, and 158 in 1901), and in shutouts seven times. Young led his league in fewest walks per nine innings fourteen times and finished second one season. Only twice in his 22-year career did Young finish lower than 5th in the category. Although the WHIP ratio was not calculated until well after Young\\'s death, Young was the retroactive league leader in this category seven times and was second or third another seven times. Young is tied with Roger Clemens for the most career wins by a Boston Red Sox pitcher. They each won 192 games while with the franchise. In addition, Young pitched three no-hitters, including the third perfect game in baseball history, first in baseball\\'s \"modern era\".\\n\\nYoung also was an above average hitting pitcher in his career. He posted a .210 batting average (623-for-2960) with 325 runs, 18 home runs, 290 RBI and drew 81 bases on balls. From 1891 through 1905, he drove in 10 or more runs for 15 straight seasons, with a high of 28 RBI in 1896.\\n\\nPitching style\\nParticularly after his fastball slowed, Young relied upon his control. He was once quoted as saying, \"Some may have thought it was essential to know how to curve a ball before anything else. Experience, to my mind, teaches to the contrary. Any young player who has good control will become a successful curve pitcher long before the pitcher who is endeavoring to master both curves and control at the same time. The curve is merely an accessory to control.\" In addition to his exceptional control, Young was also a workhorse who avoided injury, owing partly to his ability to pitch in different arm positions (overhand, three-quarters, sidearm and even submarine). For 19 consecutive years, from 1891 through 1909, Young was in his league\\'s top 10 for innings pitched; in 14 of the seasons, he was in the top five. Not until 1900, a decade into his career, did Young pitch two consecutive incomplete games. By habit, Young restricted his practice throws in spring training. \"I figured the old arm had just so many throws in it,\" said Young, \"and there wasn\\'t any use wasting them.\" He once described his approach before a game:\\nI never warmed up ten, fifteen minutes before a game like most pitchers do. I\\'d loosen up, three, four minutes. Five at the outside. And I never went to the bullpen. Oh, I\\'d relieve all right, plenty of times, but I went right from the bench to the box, and I\\'d take a few warm-up pitches and be ready. Then I had good control. I aimed to make the batter hit the ball, and I threw as few pitches as possible. That\\'s why I was able to work every other day.\\n\\nManagerial record\\n\\n* Stepped down to a player only role.\\n\\nLater life\\n\\nIn 1910, it was reported that Young was a vegetarian. Beginning in 1912, Young lived and worked on his farm. In 1913, he served as manager of the Cleveland Green Sox of the Federal League, which was at the time an outlaw league. However, he never worked in baseball after that.\\n\\nIn 1916, he ran for county treasurer in Tuscarawas County, Ohio. \\n\\nYoung\\'s wife, Roba, whom he had known since childhood, died in 1933. After she died, Young tried several jobs, and eventually moved in with friends John and Ruth Benedum and did odd jobs for them. Young took part in many baseball events after his retirement. In 1937, 26 years after he retired from baseball, Young was inducted into the Baseball Hall of Fame. He was among the first to donate mementos to the Hall.\\n\\nBy 1940, Young\\'s only source of income was stock dividends of $300 per year ($ today). On November 4, 1955, Young died on the Benedums\\' farm at the age of 88. He was buried in Peoli, Ohio.\\n\\nLegacy\\n\\nYoung\\'s career is seen as a bridge from baseball\\'s earliest days to its modern era; he pitched against stars such as Cap Anson, already an established player when the National League was first formed in 1876, as well as against Eddie Collins, who played until 1930. When Young\\'s career began, pitchers delivered the baseball underhand and fouls were not counted as strikes. The pitcher\\'s mound was not moved back to its present position of  until Young\\'s fourth season; he did not wear a glove until his sixth season.\\n\\nYoung was elected to the National Baseball Hall of Fame in 1937. In 1956, about one year after Young\\'s death, the Cy Young Award was created to honor the best pitcher in Major League Baseball for each season. The first award was given to Brooklyn\\'s Don Newcombe. Originally, it was a single award covering all of baseball. The honor was divided into two Cy Young Awards in 1967, one for each league.\\n\\nOn September 23, 1993, a statue dedicated to him was unveiled by Northeastern University on the site of the Red Sox\\'s original stadium, the Huntington Avenue Grounds. It was there that Young had pitched the first game of the 1903 World Series, as well as the first perfect game in the modern era of baseball. A home plate-shaped plaque next to the statue reads:\\nOn October 1, 1903 the first modern World Series between the American League champion Boston Pilgrims (later known as the Red Sox) and the National League champion Pittsburgh Pirates was played on this site. General admission tickets were fifty cents. The Pilgrims, led by twenty-eight game winner Cy Young, trailed the series three games to one but then swept four consecutive victories to win the championship five games to three.\\n\\nIn 1999, 88 years after his final major league appearance and 44 years after his death, editors at The Sporting News ranked Young 14th on their list of \"Baseball\\'s 100 Greatest Players\". That same year, baseball fans named him to the Major League Baseball All-Century Team.\\n\\nSee also\\n\\n 300 win club\\n List of Major League Baseball career wins leaders\\n List of Major League Baseball career ERA leaders\\n List of Major League Baseball career strikeout leaders\\n List of Major League Baseball career shutout leaders\\n List of Major League Baseball career hit batsmen leaders\\n Triple Crown (baseball)\\n List of Major League Baseball annual wins leaders\\n List of Major League Baseball annual ERA leaders\\n List of Major League Baseball annual strikeout leaders\\n List of Major League Baseball annual shutout leaders\\n List of Major League Baseball annual saves leaders\\n Major League Baseball titles leaders\\n List of Major League Baseball no-hitters\\n List of Major League Baseball individual streaks\\n List of Major League Baseball player-managers\\n List of Major League Baseball all-time leaders in home runs by pitchers\\n Boston Red Sox Hall of Fame\\n\\nNotes\\n a. Although the phrase \"perfect game\" appeared in record books as early as 1922, and was a common expression years before that, Major League Baseball did not formalize the definition of a \"perfect game\" until 1991, long after Young\\'s death. Nonetheless, Young\\'s 1955 obituary also used the phrase.\\n\"An official perfect game occurs when a pitcher (or pitchers) retires each batter on the opposing team during the entire course of a game, which consists of at least nine innings. In a perfect game, no batter reaches any base during the course of the game.\"\\n b.Although it is not an actual award, many baseball fans and experts call a pitcher who leads his league in wins, strikeouts, and ERA the Triple Crown winner.\\n\\nReferences\\n\\nExternal links\\n\\nJane Benedum Oral History Interview on Cy Young (1 of 2) - National Baseball Hall of Fame Digital Collection\\nJane Benedum Oral History Interview on Cy Young (2 of 2) - National Baseball Hall of Fame Digital Collection\\n\\n1867 births\\n1955 deaths\\n19th-century baseball players\\nNational Baseball Hall of Fame inductees\\nMajor League Baseball pitchers\\nMajor League Baseball player-managers\\nBoston Americans players\\nBoston Red Sox managers\\nBoston Red Sox players\\nBoston Rustlers players\\nCleveland Naps players\\nCleveland Spiders players\\nSt. Louis Perfectos players\\nMajor League Baseball pitchers who have pitched a perfect game\\nAmerican League Pitching Triple Crown winners\\nAmerican League ERA champions\\nAmerican League strikeout champions\\nAmerican League wins champions\\nNational League ERA champions\\nNational League strikeout champions\\nNational League wins champions\\nMinor league baseball managers\\nCanton Nadjys players\\nCanton Statesmen players\\nHarvard Crimson baseball coaches\\nBaseball players from Ohio\\nPeople from Harrison County, Ohio\\nPeople from Tuscarawas County, Ohio\\nCleveland Green Sox players'}\n",
      "0.81843287\n"
     ]
    }
   ],
   "source": [
    "# max_sim = 0\n",
    "# for question in obscure_questions:\n",
    "#     with torch.no_grad():\n",
    "#         query_vec = model(**tokenizer(question['prompt'], return_tensors=\"pt\")).last_hidden_state[0, 0]\n",
    "#         for doc in neu_docs[:20]:\n",
    "#             doc_vec = model(**tokenizer(doc[\"text\"], return_tensors=\"pt\", truncation=True)).last_hidden_state[0, 0]\n",
    "#             cosine_sim = compute_cosine_similarity(query_vec.numpy(), doc_vec.numpy())\n",
    "#             if cosine_sim > max_sim:\n",
    "#                 max_sim = cosine_sim\n",
    "#                 max_doc = doc\n",
    "#         print(max_doc)\n",
    "#         print(max_sim)\n",
    "\n",
    "question = obscure_questions[0]\n",
    "with torch.no_grad():\n",
    "    query_vec = model(**tokenizer(question['prompt'], return_tensors=\"pt\")).last_hidden_state[0, 0]\n",
    "    for doc in neu_docs[:1]:\n",
    "        doc_vec = model(**tokenizer(doc[\"text\"], return_tensors=\"pt\", truncation=True)).last_hidden_state[0, 0]\n",
    "        cosine_sim = compute_cosine_similarity(query_vec.numpy(), doc_vec.numpy())\n",
    "        print(\"THIS: \")\n",
    "        print(cosine_sim)\n",
    "        if cosine_sim > max_sim:\n",
    "            max_sim = cosine_sim\n",
    "            max_doc = doc\n",
    "    print(\"MAX\")\n",
    "    print(max_doc)\n",
    "    print(max_sim)\n",
    "                \n"
   ]
  }
 ],
 "metadata": {
  "kernelspec": {
   "display_name": "base",
   "language": "python",
   "name": "python3"
  },
  "language_info": {
   "codemirror_mode": {
    "name": "ipython",
    "version": 3
   },
   "file_extension": ".py",
   "mimetype": "text/x-python",
   "name": "python",
   "nbconvert_exporter": "python",
   "pygments_lexer": "ipython3",
   "version": "3.12.4"
  }
 },
 "nbformat": 4,
 "nbformat_minor": 2
}
