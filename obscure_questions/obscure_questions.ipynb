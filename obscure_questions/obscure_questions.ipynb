{
 "cells": [
  {
   "cell_type": "code",
   "execution_count": 1,
   "metadata": {},
   "outputs": [],
   "source": [
    "import math\n",
    "from functools import lru_cache\n",
    "from datasets import load_dataset\n",
    "import numpy as np\n",
    "import torch\n",
    "from transformers import AutoTokenizer, AutoModel"
   ]
  },
  {
   "cell_type": "code",
   "execution_count": 2,
   "metadata": {},
   "outputs": [
    {
     "data": {
      "application/vnd.jupyter.widget-view+json": {
       "model_id": "0a6c043d7de64fe88abf7b7a44870b10",
       "version_major": 2,
       "version_minor": 0
      },
      "text/plain": [
       "test-00000-of-00001.parquet:   0%|          | 0.00/12.9M [00:00<?, ?B/s]"
      ]
     },
     "metadata": {},
     "output_type": "display_data"
    },
    {
     "name": "stderr",
     "output_type": "stream",
     "text": [
      "c:\\Users\\ravur\\anaconda3\\Lib\\site-packages\\huggingface_hub\\file_download.py:140: UserWarning: `huggingface_hub` cache-system uses symlinks by default to efficiently store duplicated files but your machine does not support them in C:\\Users\\ravur\\.cache\\huggingface\\hub\\datasets--nuprl--engineering-llm-systems. Caching files will still work but in a degraded version that might require more space on your disk. This warning can be disabled by setting the `HF_HUB_DISABLE_SYMLINKS_WARNING` environment variable. For more details, see https://huggingface.co/docs/huggingface_hub/how-to-cache#limitations.\n",
      "To support symlinks on Windows, you either need to activate Developer Mode or to run Python as an administrator. In order to activate developer mode, see this article: https://docs.microsoft.com/en-us/windows/apps/get-started/enable-your-device-for-development\n",
      "  warnings.warn(message)\n"
     ]
    },
    {
     "data": {
      "application/vnd.jupyter.widget-view+json": {
       "model_id": "b8337460fd274473aef0fe640cc61894",
       "version_major": 2,
       "version_minor": 0
      },
      "text/plain": [
       "Generating test split:   0%|          | 0/2434 [00:00<?, ? examples/s]"
      ]
     },
     "metadata": {},
     "output_type": "display_data"
    },
    {
     "data": {
      "application/vnd.jupyter.widget-view+json": {
       "model_id": "565c2811097b48ac98ca7a32bad0abb0",
       "version_major": 2,
       "version_minor": 0
      },
      "text/plain": [
       "test-00000-of-00001.parquet:   0%|          | 0.00/108k [00:00<?, ?B/s]"
      ]
     },
     "metadata": {},
     "output_type": "display_data"
    },
    {
     "data": {
      "application/vnd.jupyter.widget-view+json": {
       "model_id": "8ab0e278d40146b5bdb56eefe549754e",
       "version_major": 2,
       "version_minor": 0
      },
      "text/plain": [
       "tiny-00000-of-00001.parquet:   0%|          | 0.00/10.3k [00:00<?, ?B/s]"
      ]
     },
     "metadata": {},
     "output_type": "display_data"
    },
    {
     "data": {
      "application/vnd.jupyter.widget-view+json": {
       "model_id": "ff421c64ab974137874952bdfdf0d886",
       "version_major": 2,
       "version_minor": 0
      },
      "text/plain": [
       "Generating test split:   0%|          | 0/931 [00:00<?, ? examples/s]"
      ]
     },
     "metadata": {},
     "output_type": "display_data"
    },
    {
     "data": {
      "application/vnd.jupyter.widget-view+json": {
       "model_id": "3dde6144891b4929a38aa38c90d286be",
       "version_major": 2,
       "version_minor": 0
      },
      "text/plain": [
       "Generating tiny split:   0%|          | 0/50 [00:00<?, ? examples/s]"
      ]
     },
     "metadata": {},
     "output_type": "display_data"
    }
   ],
   "source": [
    "\n",
    "neu_wiki = load_dataset(\"nuprl/engineering-llm-systems\", name=\"wikipedia-northeastern-university\", split=\"test\")\n",
    "obscure_questions = load_dataset(\"nuprl/engineering-llm-systems\", name=\"obscure_questions\", split=\"test\")\n"
   ]
  },
  {
   "cell_type": "code",
   "execution_count": 3,
   "metadata": {},
   "outputs": [
    {
     "data": {
      "text/plain": [
       "'https://en.wikipedia.org/wiki/British%20Columbia'"
      ]
     },
     "execution_count": 3,
     "metadata": {},
     "output_type": "execute_result"
    }
   ],
   "source": [
    "neu_wiki[0]['url']"
   ]
  },
  {
   "cell_type": "code",
   "execution_count": 4,
   "metadata": {},
   "outputs": [
    {
     "data": {
      "text/plain": [
       "{'url': '',\n",
       " 'article_id': '6849',\n",
       " 'prompt': 'In what year was Cy Young elected to the National Baseball Hall of Fame?',\n",
       " 'choices': ['A. 1935', 'B. 1937', 'C. 1940', 'D. 1956'],\n",
       " 'correct_answer': 'B',\n",
       " 'id': 0}"
      ]
     },
     "execution_count": 4,
     "metadata": {},
     "output_type": "execute_result"
    }
   ],
   "source": [
    "obscure_questions[0]"
   ]
  },
  {
   "cell_type": "code",
   "execution_count": 5,
   "metadata": {},
   "outputs": [],
   "source": [
    "def term_frequency(document: str, term: str):\n",
    "    c = document.count(term)\n",
    "    return 0 if c == 0 else 1 + math.log(c)\n",
    "    # return document.count(term)\n",
    "\n",
    "@lru_cache(maxsize=None)\n",
    "def inverse_document_frequency(term: str):\n",
    "    num_docs_with_term = sum(1 for item in neu_wiki if term in item[\"text\"])\n",
    "    return math.log(len(neu_wiki) / (1 + num_docs_with_term))\n",
    "\n",
    "def compute_tf_idf_vector_unnormalized(terms, document: str):\n",
    "    return [ term_frequency(document, term) * inverse_document_frequency(term) for term in terms ]\n",
    "\n",
    "def compute_tf_idf_vector(terms, document: str):\n",
    "    vec = compute_tf_idf_vector_unnormalized(terms, document)\n",
    "    return vec\n",
    "\n",
    "def compute_cosine_similarity(vec1, vec2):\n",
    "    vec1_norm = np.linalg.norm(vec1)\n",
    "    vec2_norm = np.linalg.norm(vec2)\n",
    "\n",
    "    if vec1_norm == 0 or vec2_norm == 0:\n",
    "        return 0\n",
    "    \n",
    "    return np.dot(vec1, vec2) / (vec1_norm * vec2_norm)\n",
    "\n",
    "def rank_by_tf_idf(query: str):\n",
    "    query_vec = compute_tf_idf_vector(query.split(), query)\n",
    "    return sorted(neu_wiki, key=lambda x: compute_cosine_similarity(query_vec, compute_tf_idf_vector(query.split(), x[\"text\"])), reverse=True)"
   ]
  },
  {
   "cell_type": "code",
   "execution_count": 6,
   "metadata": {},
   "outputs": [
    {
     "name": "stdout",
     "output_type": "stream",
     "text": [
      "British Columbia https://en.wikipedia.org/wiki/British%20Columbia\n",
      "Cy Young https://en.wikipedia.org/wiki/Cy%20Young\n",
      "Car Talk https://en.wikipedia.org/wiki/Car%20Talk\n",
      "Dartmouth College https://en.wikipedia.org/wiki/Dartmouth%20College\n",
      "Dedham, Massachusetts https://en.wikipedia.org/wiki/Dedham%2C%20Massachusetts\n",
      "Derek Walcott https://en.wikipedia.org/wiki/Derek%20Walcott\n",
      "Distance education https://en.wikipedia.org/wiki/Distance%20education\n",
      "Eindhoven University of Technology https://en.wikipedia.org/wiki/Eindhoven%20University%20of%20Technology\n",
      "Fenway Park https://en.wikipedia.org/wiki/Fenway%20Park\n",
      "Ice hockey https://en.wikipedia.org/wiki/Ice%20hockey\n",
      "Massachusetts Institute of Technology https://en.wikipedia.org/wiki/Massachusetts%20Institute%20of%20Technology\n",
      "Nu https://en.wikipedia.org/wiki/Nu\n",
      "Susan B. Anthony https://en.wikipedia.org/wiki/Susan%20B.%20Anthony\n",
      "Scheme (programming language) https://en.wikipedia.org/wiki/Scheme%20%28programming%20language%29\n",
      "Siberian Husky https://en.wikipedia.org/wiki/Siberian%20Husky\n",
      "Sokal affair https://en.wikipedia.org/wiki/Sokal%20affair\n",
      "The New York Times https://en.wikipedia.org/wiki/The%20New%20York%20Times\n",
      "White House https://en.wikipedia.org/wiki/White%20House\n",
      "Witchcraft https://en.wikipedia.org/wiki/Witchcraft\n",
      "List of political scientists https://en.wikipedia.org/wiki/List%20of%20political%20scientists\n"
     ]
    }
   ],
   "source": [
    "neu_docs = rank_by_tf_idf(\"Northeastern\")\n",
    "for item in neu_docs[:20]:\n",
    "    print(item[\"title\"], item[\"url\"])\n"
   ]
  },
  {
   "cell_type": "code",
   "execution_count": 7,
   "metadata": {},
   "outputs": [],
   "source": [
    "model = AutoModel.from_pretrained(\"answerdotai/ModernBERT-base\")\n",
    "tokenizer = AutoTokenizer.from_pretrained(\"answerdotai/ModernBERT-base\")"
   ]
  }
 ],
 "metadata": {
  "kernelspec": {
   "display_name": "base",
   "language": "python",
   "name": "python3"
  },
  "language_info": {
   "codemirror_mode": {
    "name": "ipython",
    "version": 3
   },
   "file_extension": ".py",
   "mimetype": "text/x-python",
   "name": "python",
   "nbconvert_exporter": "python",
   "pygments_lexer": "ipython3",
   "version": "3.12.4"
  }
 },
 "nbformat": 4,
 "nbformat_minor": 2
}
