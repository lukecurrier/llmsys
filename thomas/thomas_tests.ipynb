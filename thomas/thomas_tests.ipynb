{
 "cells": [
  {
   "cell_type": "code",
   "execution_count": 18,
   "metadata": {},
   "outputs": [],
   "source": [
    "from openai import OpenAI"
   ]
  },
  {
   "cell_type": "code",
   "execution_count": 5,
   "metadata": {},
   "outputs": [
    {
     "data": {
      "application/vnd.jupyter.widget-view+json": {
       "model_id": "a338e572b07540b1b28b7cf7adb19313",
       "version_major": 2,
       "version_minor": 0
      },
      "text/plain": [
       "README.md:   0%|          | 0.00/4.01k [00:00<?, ?B/s]"
      ]
     },
     "metadata": {},
     "output_type": "display_data"
    },
    {
     "data": {
      "application/vnd.jupyter.widget-view+json": {
       "model_id": "7f4a7d8e9d8e40b8a98c91d730601f45",
       "version_major": 2,
       "version_minor": 0
      },
      "text/plain": [
       "train-00000-of-00001.parquet:   0%|          | 0.00/467k [00:00<?, ?B/s]"
      ]
     },
     "metadata": {},
     "output_type": "display_data"
    },
    {
     "data": {
      "application/vnd.jupyter.widget-view+json": {
       "model_id": "7d0406b8e6e0421cb69dcce6a8c89dff",
       "version_major": 2,
       "version_minor": 0
      },
      "text/plain": [
       "Generating train split:   0%|          | 0/31601 [00:00<?, ? examples/s]"
      ]
     },
     "metadata": {},
     "output_type": "display_data"
    }
   ],
   "source": [
    "from datasets import load_dataset\n",
    "\n",
    "flights = load_dataset(\"nuprl/engineering-llm-systems\", name=\"flights\", split=\"train\")\n"
   ]
  },
  {
   "cell_type": "code",
   "execution_count": 6,
   "metadata": {},
   "outputs": [],
   "source": [
    "import datetime\n",
    "from typing import List, Optional\n",
    "\n",
    "class Flight:\n",
    "    def __init__(self, flight_id: int):\n",
    "        self.flight_info = flights[flight_id]\n",
    "\n",
    "def find_flights(origin: str, destination: str, date: datetime.date) -> List[Flight]:\n",
    "    formatted_date = date.strftime(\"%Y-%m-%d\")\n",
    "    return [Flight(flight[\"id\"]) for flight in flights if flight[\"origin\"] == origin and flight[\"destination\"] == destination and flight[\"date\"] == formatted_date]\n",
    "\n",
    "def book_flight(flight_id: int) -> Optional[int]:\n",
    "    if flights[flight_id][\"available_seats\"] > 0:\n",
    "        return flight_id\n",
    "    else: \n",
    "        return None\n"
   ]
  },
  {
   "cell_type": "code",
   "execution_count": 17,
   "metadata": {},
   "outputs": [],
   "source": [
    "def wrap(text):\n",
    "    \"\"\"\n",
    "    Some basic text wrapping code that works better for me than the built-in\n",
    "    textwrap module.\n",
    "    \"\"\"\n",
    "    result_lines = [ ]\n",
    "    current_line = []\n",
    "    current_line_length = 0\n",
    "    for line in text.split(\"\\n\"):\n",
    "        for words in line.split(\" \"):\n",
    "            if current_line_length + len(words) > 80:\n",
    "                result_lines.append(\" \".join(current_line))\n",
    "                current_line = [ ]\n",
    "                current_line_length = 0\n",
    "            current_line.append(words)\n",
    "            current_line_length += len(words) + 1\n",
    "        result_lines.append(\" \".join(current_line))\n",
    "        current_line = [ ]\n",
    "        current_line_length = 0\n",
    "    return \"\\n\".join(result_lines)"
   ]
  },
  {
   "cell_type": "code",
   "execution_count": 19,
   "metadata": {},
   "outputs": [],
   "source": [
    "API_KEY = \"currier.l@northeastern.edu:19284\""
   ]
  },
  {
   "cell_type": "code",
   "execution_count": null,
   "metadata": {},
   "outputs": [
    {
     "name": "stdout",
     "output_type": "stream",
     "text": [
      "[]\n"
     ]
    }
   ],
   "source": [
    "def run_chat(api_key: str):\n",
    "    base_url = \"https://nerc.guha-anderson.com/v1\"\n",
    "    \n",
    "    codegen_prompt = \"\"\"\n",
    "    You are an airline chatbot. Only answer airline queries. We have defined a function called def \n",
    "    find_flights(origin: str, destination: str, departure_date: datetime.date) -> list[dict]:\n",
    "\n",
    "    It takes the origin and destination airport codes and produces a list of dictionaries containing flight information. \n",
    "    \n",
    "    Stuff like this:\n",
    "    { 'id': 407,\n",
    "    'date': datetime.date(2023, 1, 6),\n",
    "    'airline': 'Delta',\n",
    "    'flight_number': 'DL9926',\n",
    "    'origin': 'ORD',\n",
    "    'destination': 'JFK',\n",
    "    'departure_time': datetime.time(20, 55),\n",
    "    'arrival_time': datetime.time(22, 55),\n",
    "    'available_seats': 172}\n",
    "\n",
    "    If the user query is requesting information that you could find via this function, return the code you would use to find that information in this format: \n",
    "    '''\n",
    "    { code }\n",
    "    '''\n",
    "    \"\"\"\n",
    "\n",
    "    textgen_prompt = \"\"\"\n",
    "    You are an airline chatbot. Only answer airline queries. We have defined a function called def \n",
    "    find_flights(origin: str, destination: str, departure_date: datetime.date) -> list[dict]:\n",
    "\n",
    "    It takes the origin and destination airport codes and produces a list of dictionaries containing flight information. \n",
    "    \n",
    "    Stuff like this:\n",
    "    { 'id': 407,\n",
    "    'date': datetime.date(2023, 1, 6),\n",
    "    'airline': 'Delta',\n",
    "    'flight_number': 'DL9926',\n",
    "    'origin': 'ORD',\n",
    "    'destination': 'JFK',\n",
    "    'departure_time': datetime.time(20, 55),\n",
    "    'arrival_time': datetime.time(22, 55),\n",
    "    'available_seats': 172}\n",
    "\n",
    "    If the user query is requesting information that you could find\n",
    "    \"\"\"\n",
    "\n",
    "    client = OpenAI(base_url=base_url, api_key=api_key)\n",
    "\n",
    "    while True: \n",
    "        user_input = input(\"User (blank to quit):\")\n",
    "\n",
    "        if user_input == \"\":\n",
    "            print(\"[]\")\n",
    "            break\n",
    "        else:\n",
    "            print(\"User (blank to quit): \"+ user_input)\n",
    "\n",
    "        # chatbot logic here\n",
    "        try:\n",
    "            resp = client.chat.completions.create(\n",
    "                messages = [{ \"role\": \"system\", \"content\": codegen_prompt },\n",
    "                            { \"role\": \"user\", \"content\": \"What flights are there from Boston to San Francisco on January 6, 2023? \"},\n",
    "                            { \"role\": \"assistant\", \"content\": \"\"\"find_flights(\"BOS\", \"SFO\", datetime.date(2023, 1, 6))\"\"\" },\n",
    "                            { \"role\": \"user\", \"content\": user_input }],\n",
    "                model = \"llama3p1-8b-instruct\",\n",
    "                temperature=0)\n",
    "            print(resp.choices[0].message.content)\n",
    "        except:\n",
    "            print(\"API key invalid, please try again.\")\n",
    "            break\n",
    "\n",
    "run_chat(api_key = API_KEY)"
   ]
  },
  {
   "cell_type": "code",
   "execution_count": null,
   "metadata": {},
   "outputs": [],
   "source": []
  }
 ],
 "metadata": {
  "kernelspec": {
   "display_name": "base",
   "language": "python",
   "name": "python3"
  },
  "language_info": {
   "codemirror_mode": {
    "name": "ipython",
    "version": 3
   },
   "file_extension": ".py",
   "mimetype": "text/x-python",
   "name": "python",
   "nbconvert_exporter": "python",
   "pygments_lexer": "ipython3",
   "version": "3.12.8"
  }
 },
 "nbformat": 4,
 "nbformat_minor": 2
}
